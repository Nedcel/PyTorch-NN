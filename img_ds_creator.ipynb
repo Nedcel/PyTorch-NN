{
 "cells": [
  {
   "cell_type": "markdown",
   "metadata": {},
   "source": [
    "## Image creator"
   ]
  },
  {
   "cell_type": "code",
   "execution_count": 1,
   "metadata": {},
   "outputs": [],
   "source": [
    "import shutil\n",
    "import numpy as np\n",
    "import cv2\n",
    "import os"
   ]
  },
  {
   "cell_type": "code",
   "execution_count": 4,
   "metadata": {},
   "outputs": [],
   "source": [
    "class ImgDFCreator:\n",
    "    \"\"\"\n",
    "    This class creates a dataset of images, which are 64x64 px by default. Each picture \n",
    "    contains a solid red or pink circle on a differently shaded gray background. Circle covers\n",
    "    10% - 60% of picture and is placed randomly somewhere inside. Also it's decided, that if\n",
    "    a circle covers up to 30% of picture size - it's a small circle, otherwise - a big one.\n",
    "\n",
    "    We also create folders (_clear_directories) to contain images and recreate them if they are already\n",
    "    there. It is needed to create only 1 dataset per time with set parametres and number of examples.\n",
    "\n",
    "    I wrote this code to get some pictures to train my CV model on. You can use this basic example \n",
    "    as a starting point and adjust it to creat images that fit your problem.\n",
    "    \"\"\"\n",
    "    def __init__(self, width=64):\n",
    "        self.width = width\n",
    "        self.height = width\n",
    "        self.circle_colors = [\n",
    "            (0, 0, 255),    # Red (BGR)\n",
    "            (255, 0, 255)   # Pink (BGR)\n",
    "        ]\n",
    "        self.gray_shades = [\n",
    "            (50, 50, 50),   # Dark-grey\n",
    "            (100, 100, 100),\n",
    "            (150, 150, 150),\n",
    "            (200, 200, 200),\n",
    "            (230, 230, 230), # Light-grey\n",
    "        ]\n",
    "        self.small_circle_threshold = 0.3 * (self.width * self.height)\n",
    "        self.directories = ['small_pink_circle', 'small_red_circle', \n",
    "                            'big_pink_circle', 'big_red_circle']\n",
    "\n",
    "    def _clear_directories(self):\n",
    "        for directory in self.directories:\n",
    "            if os.path.exists(directory):\n",
    "                shutil.rmtree(directory)\n",
    "            os.makedirs(directory)\n",
    "\n",
    "    def create_images(self, num_images):\n",
    "        self._clear_directories()\n",
    "\n",
    "        for i in range(num_images):\n",
    "            circle_color = self.circle_colors[np.random.choice(len(self.circle_colors))]\n",
    "            color_name = 'red' if circle_color == (0, 0, 255) else 'pink'\n",
    "            background_color = self.gray_shades[np.random.choice(len(self.gray_shades))]\n",
    "            image_np = np.full((self.height, self.width, 3), background_color, dtype=np.uint8)\n",
    "\n",
    "            min_area = 0.1 * (self.width * self.height)\n",
    "            max_area = 0.6 * (self.width * self.height)\n",
    "            max_radius = np.sqrt(max_area / np.pi)\n",
    "            min_radius = np.sqrt(min_area / np.pi)\n",
    "            radius = np.random.randint(int(min_radius), int(max_radius))\n",
    "            circle_area = np.pi * (radius ** 2)\n",
    "            \n",
    "            center_x, center_y = np.random.randint(radius, self.width - radius), np.random.randint(radius, self.height - radius)\n",
    "\n",
    "            cv2.circle(image_np, (center_x, center_y), radius, circle_color, thickness=-1)\n",
    "\n",
    "            if circle_area <= self.small_circle_threshold:\n",
    "                if color_name == 'pink':\n",
    "                    directory = 'small_pink_circle'\n",
    "                else:\n",
    "                    directory = 'small_red_circle'\n",
    "            else:\n",
    "                if color_name == 'pink':\n",
    "                    directory = 'big_pink_circle'\n",
    "                else:\n",
    "                    directory = 'big_red_circle'\n",
    "            \n",
    "            filepath = f\"{directory}/image_{i}.png\"\n",
    "            cv2.imwrite(filepath, image_np)\n",
    "            print(f\"Image saved to: {filepath}\")\n",
    "\n"
   ]
  },
  {
   "cell_type": "code",
   "execution_count": null,
   "metadata": {},
   "outputs": [],
   "source": [
    "creator = ImgDFCreator()\n",
    "creator.create_images(10000)"
   ]
  }
 ],
 "metadata": {
  "kernelspec": {
   "display_name": "Python 3",
   "language": "python",
   "name": "python3"
  },
  "language_info": {
   "codemirror_mode": {
    "name": "ipython",
    "version": 3
   },
   "file_extension": ".py",
   "mimetype": "text/x-python",
   "name": "python",
   "nbconvert_exporter": "python",
   "pygments_lexer": "ipython3",
   "version": "3.12.5"
  }
 },
 "nbformat": 4,
 "nbformat_minor": 2
}
