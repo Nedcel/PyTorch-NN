{
 "cells": [
  {
   "cell_type": "markdown",
   "metadata": {},
   "source": [
    "## Circle recognition NN"
   ]
  },
  {
   "cell_type": "code",
   "execution_count": 45,
   "metadata": {},
   "outputs": [],
   "source": [
    "import numpy as np\n",
    "import torch\n",
    "import torch.nn as nn\n",
    "import torch.optim as optim\n",
    "from torch.utils.data import DataLoader\n",
    "from torchvision import datasets, transforms\n",
    "import random\n",
    "import matplotlib.pyplot as plt"
   ]
  },
  {
   "cell_type": "code",
   "execution_count": 46,
   "metadata": {},
   "outputs": [],
   "source": [
    "# Hyperparametres\n",
    "batch_size = 64\n",
    "learning_rate = 0.001\n",
    "num_epochs = 4"
   ]
  },
  {
   "cell_type": "code",
   "execution_count": 47,
   "metadata": {},
   "outputs": [
    {
     "name": "stdout",
     "output_type": "stream",
     "text": [
      "tensor([0, 1, 2, 0, 2, 3, 3, 1, 3, 2, 3, 1, 3, 1, 3, 0, 2, 2, 0, 2, 1, 3, 3, 1,\n",
      "        3, 2, 0, 3, 2, 2, 3, 2, 2, 0, 0, 1, 3, 2, 3, 1, 2, 2, 3, 1, 3, 0, 0, 0,\n",
      "        3, 0, 1, 0, 2, 1, 0, 0, 1, 0, 1, 0, 3, 0, 0, 1])\n"
     ]
    }
   ],
   "source": [
    "# Transformations\n",
    "transform = transforms.Compose([\n",
    "    transforms.Resize((64, 64)), # no need to write this line in my example, but anyway\n",
    "    transforms.ToTensor()\n",
    "])\n",
    "\n",
    "# Loading data\n",
    "train_path = 'C:/Users/Asus/Desktop/Course_ML/Pytorch_CV/PyTorch_imgs/train'\n",
    "test_path = 'C:/Users/Asus/Desktop/Course_ML/Pytorch_CV/PyTorch_imgs/test'\n",
    "train_dataset = datasets.ImageFolder(train_path, transform=transform)\n",
    "train_loader = DataLoader(train_dataset, batch_size=batch_size, shuffle=True)\n",
    "\n",
    "val_dataset = datasets.ImageFolder(test_path, transform=transform)\n",
    "val_loader = DataLoader(val_dataset, batch_size=batch_size, shuffle=False)\n",
    "\n",
    "for images, labels in train_loader:\n",
    "    print(labels) \n",
    "    break"
   ]
  },
  {
   "cell_type": "code",
   "execution_count": 48,
   "metadata": {},
   "outputs": [
    {
     "data": {
      "image/png": "[encoded data removed]",
      "text/plain": [
       "<Figure size 640x480 with 1 Axes>"
      ]
     },
     "metadata": {},
     "output_type": "display_data"
    }
   ],
   "source": [
    "def show_random_image_from_loader(loader):\n",
    "    # Get a random batch\n",
    "    images, labels = next(iter(loader))\n",
    "    # Select a random index from the batch\n",
    "    rand_index = random.randint(0, len(images) - 1)\n",
    "    # Get the image and label\n",
    "    image = images[rand_index]\n",
    "    label = labels[rand_index]\n",
    "\n",
    "    # Convert the image to a format that can be displayed\n",
    "    image = image.permute(1, 2, 0).numpy()  # From CxHxW to HxWxC\n",
    "    image = np.clip(image, 0, 1)  # Clip values to range [0, 1] for display\n",
    "\n",
    "    # Get class name from the dataset's class dictionary\n",
    "    class_name = train_dataset.classes[label]\n",
    "\n",
    "    # Plot the image with the class name as title\n",
    "    plt.imshow(image)\n",
    "    plt.title(f\"Class: {class_name}\")\n",
    "    plt.axis('off')\n",
    "    plt.show()\n",
    "\n",
    "# Use the function to display a random image\n",
    "show_random_image_from_loader(train_loader)"
   ]
  },
  {
   "cell_type": "code",
   "execution_count": 49,
   "metadata": {},
   "outputs": [],
   "source": [
    "class CircleClassifier(nn.Module):\n",
    "    def __init__(self):\n",
    "        super(CircleClassifier, self).__init__()\n",
    "        self.conv_layers = nn.Sequential(\n",
    "            nn.Conv2d(3, 32, kernel_size=3, stride=1, padding=1),\n",
    "            nn.ReLU(),\n",
    "            nn.MaxPool2d(kernel_size=2, stride=2),\n",
    "            nn.Conv2d(32, 64, kernel_size=3, stride=1, padding=1),\n",
    "            nn.ReLU(),\n",
    "            nn.MaxPool2d(kernel_size=2, stride=2)\n",
    "        )\n",
    "        self.fc_layers = nn.Sequential(\n",
    "            nn.Flatten(),\n",
    "            nn.Linear(64 * 16 * 16, 64),\n",
    "            nn.ReLU(),\n",
    "            nn.Linear(64, 4) \n",
    "        )\n",
    "\n",
    "    def forward(self, x):\n",
    "        x = self.conv_layers(x)\n",
    "        x = self.fc_layers(x)\n",
    "        return x\n",
    "\n",
    "model = CircleClassifier()"
   ]
  },
  {
   "cell_type": "code",
   "execution_count": 50,
   "metadata": {},
   "outputs": [],
   "source": [
    "criterion = nn.CrossEntropyLoss()\n",
    "optimizer = optim.Adam(model.parameters(), lr=learning_rate)"
   ]
  },
  {
   "cell_type": "code",
   "execution_count": 51,
   "metadata": {},
   "outputs": [
    {
     "name": "stdout",
     "output_type": "stream",
     "text": [
      "Epoch [1/4], Loss: 0.1586\n",
      "Epoch [2/4], Loss: 0.0416\n",
      "Epoch [3/4], Loss: 0.0278\n",
      "Epoch [4/4], Loss: 0.0336\n"
     ]
    }
   ],
   "source": [
    "for epoch in range(num_epochs):\n",
    "    model.train()\n",
    "    running_loss = 0.0\n",
    "\n",
    "    for images, labels in train_loader:\n",
    "        optimizer.zero_grad()\n",
    "        outputs = model(images)\n",
    "        loss = criterion(outputs, labels)\n",
    "        loss.backward()\n",
    "        optimizer.step()\n",
    "        running_loss += loss.item()\n",
    "\n",
    "    print(f'Epoch [{epoch+1}/{num_epochs}], Loss: {running_loss/len(train_loader):.4f}')"
   ]
  },
  {
   "cell_type": "code",
   "execution_count": 52,
   "metadata": {},
   "outputs": [
    {
     "name": "stdout",
     "output_type": "stream",
     "text": [
      "Validation Accuracy: 99.90%\n"
     ]
    },
    {
     "data": {
      "image/png": "[encoded data removed]",
      "text/plain": [
       "<Figure size 640x480 with 1 Axes>"
      ]
     },
     "metadata": {},
     "output_type": "display_data"
    }
   ],
   "source": [
    "idx_to_class = {v: k for k, v in val_dataset.class_to_idx.items()}\n",
    "\n",
    "total = 0\n",
    "correct = 0\n",
    "\n",
    "with torch.no_grad():\n",
    "    all_images = []\n",
    "    all_labels = []\n",
    "    all_predicted = []\n",
    "    \n",
    "    for images, labels in val_loader:\n",
    "        outputs = model(images) \n",
    "        _, predicted = torch.max(outputs.data, 1)\n",
    "        \n",
    "        total += labels.size(0)\n",
    "        correct += (predicted == labels).sum().item()\n",
    "        \n",
    "        all_images.extend(images)\n",
    "        all_labels.extend(labels)\n",
    "        all_predicted.extend(predicted)\n",
    "\n",
    "# Compute accuracy\n",
    "accuracy = 100 * correct / total\n",
    "print(f'Validation Accuracy: {accuracy:.2f}%')\n",
    "\n",
    "# Select a random image\n",
    "random_index = random.randint(0, len(all_images) - 1)\n",
    "random_image = all_images[random_index]\n",
    "true_label = all_labels[random_index].item()\n",
    "predicted_label = all_predicted[random_index].item()\n",
    "\n",
    "# Decode true and predicted labels\n",
    "decoded_true_label = idx_to_class[true_label]\n",
    "decoded_predicted_label = idx_to_class[predicted_label]\n",
    "\n",
    "# Display the random image with true and predicted labels\n",
    "plt.imshow(random_image.permute(1, 2, 0).numpy())\n",
    "plt.title(f'True: {decoded_true_label}, Predicted: {decoded_predicted_label}')\n",
    "plt.axis('off')\n",
    "plt.show()"
   ]
  }
 ],
 "metadata": {
  "kernelspec": {
   "display_name": "Python 3",
   "language": "python",
   "name": "python3"
  },
  "language_info": {
   "codemirror_mode": {
    "name": "ipython",
    "version": 3
   },
   "file_extension": ".py",
   "mimetype": "text/x-python",
   "name": "python",
   "nbconvert_exporter": "python",
   "pygments_lexer": "ipython3",
   "version": "3.12.5"
  }
 },
 "nbformat": 4,
 "nbformat_minor": 2
}
