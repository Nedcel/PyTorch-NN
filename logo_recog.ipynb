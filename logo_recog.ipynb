{
 "cells": [
  {
   "cell_type": "code",
   "execution_count": null,
   "metadata": {
    "execution": {
     "iopub.execute_input": "2022-05-18T11:11:17.962079Z",
     "iopub.status.busy": "2022-05-18T11:11:17.96179Z",
     "iopub.status.idle": "2022-05-18T11:11:25.500857Z",
     "shell.execute_reply": "2022-05-18T11:11:25.500124Z",
     "shell.execute_reply.started": "2022-05-18T11:11:17.962044Z"
    },
    "trusted": true
   },
   "outputs": [],
   "source": [
    "from imutils import paths\n",
    "import matplotlib.pyplot as plt\n",
    "import splitfolders\n",
    "\n",
    "import torchvision.transforms as transforms\n",
    "import torch\n",
    "from torch import nn\n",
    "from torchvision.datasets import ImageFolder\n",
    "from torch.utils.data import DataLoader\n",
    "from torchvision import transforms\n",
    "import torchvision.models as models\n",
    "\n",
    "import tensorflow as tf\n",
    "from tensorflow.keras.preprocessing.image import load_img\n",
    "\n",
    "import numpy as np\n",
    "import pandas as pd\n",
    "import os\n",
    "import wget\n",
    "import cv2\n",
    "import tarfile\n",
    "from PIL import Image\n",
    "import time"
   ]
  },
  {
   "cell_type": "markdown",
   "metadata": {
    "id": "Q4yx4hBZNbsO"
   },
   "source": [
    "## Загрузка данных"
   ]
  },
  {
   "cell_type": "code",
   "execution_count": null,
   "metadata": {
    "execution": {
     "iopub.execute_input": "2022-05-18T11:11:25.502399Z",
     "iopub.status.busy": "2022-05-18T11:11:25.502149Z",
     "iopub.status.idle": "2022-05-18T11:11:28.883509Z",
     "shell.execute_reply": "2022-05-18T11:11:28.882817Z",
     "shell.execute_reply.started": "2022-05-18T11:11:25.502365Z"
    },
    "id": "2w1kfnoNuvdU",
    "outputId": "0f4dcfff-e9d5-4d73-f4f4-92a6e63325ca",
    "trusted": true
   },
   "outputs": [],
   "source": [
    "_URL = 'http://image.ntua.gr/iva/datasets/flickr_logos/flickr_logos_27_dataset.tar.gz'\n",
    "wget.download(_URL)"
   ]
  },
  {
   "cell_type": "code",
   "execution_count": null,
   "metadata": {
    "execution": {
     "iopub.execute_input": "2022-05-18T11:11:29.558569Z",
     "iopub.status.busy": "2022-05-18T11:11:29.558276Z",
     "iopub.status.idle": "2022-05-18T11:11:33.232027Z",
     "shell.execute_reply": "2022-05-18T11:11:33.23127Z",
     "shell.execute_reply.started": "2022-05-18T11:11:29.558533Z"
    },
    "id": "foCVIWuDNbsP",
    "outputId": "70196e76-b81b-4227-cf35-6ce2c4aa6dde",
    "trusted": true
   },
   "outputs": [],
   "source": [
    "zip_dir = tf.keras.utils.get_file('./logo', origin=_URL, untar=True,extract=True)"
   ]
  },
  {
   "cell_type": "code",
   "execution_count": null,
   "metadata": {
    "execution": {
     "iopub.execute_input": "2022-05-18T11:11:33.233671Z",
     "iopub.status.busy": "2022-05-18T11:11:33.233419Z",
     "iopub.status.idle": "2022-05-18T11:11:33.58895Z",
     "shell.execute_reply": "2022-05-18T11:11:33.588215Z",
     "shell.execute_reply.started": "2022-05-18T11:11:33.233638Z"
    },
    "id": "pLXxWcqJ4U4S",
    "trusted": true
   },
   "outputs": [],
   "source": [
    "fname = 'flickr_logos_27_dataset.tar.gz'\n",
    "\n",
    "if fname.endswith(\"tar.gz\"):\n",
    "    tar = tarfile.open(fname, \"r:gz\")\n",
    "    tar.extractall()\n",
    "    tar.close()"
   ]
  },
  {
   "cell_type": "code",
   "execution_count": null,
   "metadata": {
    "execution": {
     "iopub.execute_input": "2022-05-18T11:11:33.590494Z",
     "iopub.status.busy": "2022-05-18T11:11:33.590233Z",
     "iopub.status.idle": "2022-05-18T11:11:34.592122Z",
     "shell.execute_reply": "2022-05-18T11:11:34.591391Z",
     "shell.execute_reply.started": "2022-05-18T11:11:33.590461Z"
    },
    "id": "DSUiys0P5xj-",
    "trusted": true
   },
   "outputs": [],
   "source": [
    "fname = 'flickr_logos_27_dataset/flickr_logos_27_dataset_images.tar.gz'\n",
    "\n",
    "if fname.endswith(\"tar.gz\"):\n",
    "    tar = tarfile.open(fname, \"r:gz\")\n",
    "    tar.extractall()\n",
    "    tar.close()"
   ]
  },
  {
   "cell_type": "code",
   "execution_count": null,
   "metadata": {
    "execution": {
     "iopub.execute_input": "2022-05-18T11:11:34.593616Z",
     "iopub.status.busy": "2022-05-18T11:11:34.593373Z",
     "iopub.status.idle": "2022-05-18T11:11:34.59873Z",
     "shell.execute_reply": "2022-05-18T11:11:34.59805Z",
     "shell.execute_reply.started": "2022-05-18T11:11:34.593583Z"
    },
    "id": "2T_6FRvr6ct4",
    "trusted": true
   },
   "outputs": [],
   "source": [
    "src_dir = \"flickr_logos_27_dataset_images\"\n",
    "dest = \"LOGOS\"\n",
    "\n",
    "if not os.path.exists(dest):\n",
    "    os.makedirs(dest)"
   ]
  },
  {
   "cell_type": "markdown",
   "metadata": {
    "id": "nlhDecnhNbsS"
   },
   "source": [
    "## Препроцессинг"
   ]
  },
  {
   "cell_type": "code",
   "execution_count": null,
   "metadata": {
    "execution": {
     "iopub.execute_input": "2022-05-18T11:11:34.613555Z",
     "iopub.status.busy": "2022-05-18T11:11:34.613327Z",
     "iopub.status.idle": "2022-05-18T11:11:34.631788Z",
     "shell.execute_reply": "2022-05-18T11:11:34.631191Z",
     "shell.execute_reply.started": "2022-05-18T11:11:34.61353Z"
    },
    "id": "PW6txK1lAdWm",
    "trusted": true
   },
   "outputs": [],
   "source": [
    "df = pd.read_csv(\"flickr_logos_27_dataset/flickr_logos_27_dataset_training_set_annotation.txt\", sep='\\s+',header=None)\n",
    "df"
   ]
  },
  {
   "cell_type": "code",
   "execution_count": null,
   "metadata": {
    "execution": {
     "iopub.execute_input": "2022-05-18T11:11:34.662028Z",
     "iopub.status.busy": "2022-05-18T11:11:34.661756Z",
     "iopub.status.idle": "2022-05-18T11:11:34.673614Z",
     "shell.execute_reply": "2022-05-18T11:11:34.673015Z",
     "shell.execute_reply.started": "2022-05-18T11:11:34.661992Z"
    },
    "id": "M5x5oIEb0ApY",
    "trusted": true
   },
   "outputs": [],
   "source": [
    "X = df.iloc[:,0]\n",
    "Y = df.iloc[:,1]"
   ]
  },
  {
   "cell_type": "code",
   "execution_count": null,
   "metadata": {
    "execution": {
     "iopub.execute_input": "2022-05-18T11:11:34.675336Z",
     "iopub.status.busy": "2022-05-18T11:11:34.674614Z",
     "iopub.status.idle": "2022-05-18T11:11:34.680645Z",
     "shell.execute_reply": "2022-05-18T11:11:34.679546Z",
     "shell.execute_reply.started": "2022-05-18T11:11:34.675299Z"
    },
    "id": "JrHTDiAsEDPK",
    "trusted": true
   },
   "outputs": [],
   "source": [
    "dtdir = './flickr_logos_27_dataset_images/'"
   ]
  },
  {
   "cell_type": "code",
   "execution_count": null,
   "metadata": {
    "execution": {
     "iopub.execute_input": "2022-05-18T11:11:34.682692Z",
     "iopub.status.busy": "2022-05-18T11:11:34.682332Z",
     "iopub.status.idle": "2022-05-18T11:11:34.691681Z",
     "shell.execute_reply": "2022-05-18T11:11:34.690948Z",
     "shell.execute_reply.started": "2022-05-18T11:11:34.682637Z"
    },
    "id": "M57_9LjXDr9Y",
    "trusted": true
   },
   "outputs": [],
   "source": [
    "im = df[0][0]"
   ]
  },
  {
   "cell_type": "code",
   "execution_count": null,
   "metadata": {
    "execution": {
     "iopub.execute_input": "2022-05-18T11:11:34.693656Z",
     "iopub.status.busy": "2022-05-18T11:11:34.692589Z",
     "iopub.status.idle": "2022-05-18T11:11:34.702875Z",
     "shell.execute_reply": "2022-05-18T11:11:34.702038Z",
     "shell.execute_reply.started": "2022-05-18T11:11:34.693628Z"
    },
    "id": "GHW47r8vFAY5",
    "trusted": true
   },
   "outputs": [],
   "source": [
    "size = df.iloc[:,3:]\n",
    "size"
   ]
  },
  {
   "cell_type": "code",
   "execution_count": null,
   "metadata": {
    "execution": {
     "iopub.execute_input": "2022-05-18T11:11:34.722118Z",
     "iopub.status.busy": "2022-05-18T11:11:34.721853Z",
     "iopub.status.idle": "2022-05-18T11:11:34.729558Z",
     "shell.execute_reply": "2022-05-18T11:11:34.728687Z",
     "shell.execute_reply.started": "2022-05-18T11:11:34.722083Z"
    },
    "id": "Dg_Ok6GzD6Vx",
    "trusted": true
   },
   "outputs": [],
   "source": [
    "img = os.path.join(dtdir,im)"
   ]
  },
  {
   "cell_type": "code",
   "execution_count": null,
   "metadata": {
    "execution": {
     "iopub.execute_input": "2022-05-18T11:11:34.733347Z",
     "iopub.status.busy": "2022-05-18T11:11:34.73294Z",
     "iopub.status.idle": "2022-05-18T11:11:34.741874Z",
     "shell.execute_reply": "2022-05-18T11:11:34.741119Z",
     "shell.execute_reply.started": "2022-05-18T11:11:34.733304Z"
    },
    "id": "QpTIR5u9Ii5E",
    "trusted": true
   },
   "outputs": [],
   "source": [
    "size = size.values.tolist()"
   ]
  },
  {
   "cell_type": "code",
   "execution_count": null,
   "metadata": {
    "execution": {
     "iopub.execute_input": "2022-05-18T11:11:34.745543Z",
     "iopub.status.busy": "2022-05-18T11:11:34.745348Z",
     "iopub.status.idle": "2022-05-18T11:11:34.754113Z",
     "shell.execute_reply": "2022-05-18T11:11:34.753285Z",
     "shell.execute_reply.started": "2022-05-18T11:11:34.745518Z"
    },
    "id": "m03w9M4BJZ31",
    "outputId": "bbe3f206-16e1-4743-ff4d-3dd9fc7ed074",
    "trusted": true
   },
   "outputs": [],
   "source": [
    "size[0][0],size[0][1],size[0][2],size[0][3]"
   ]
  },
  {
   "cell_type": "code",
   "execution_count": null,
   "metadata": {
    "execution": {
     "iopub.execute_input": "2022-05-18T11:11:34.756164Z",
     "iopub.status.busy": "2022-05-18T11:11:34.755875Z",
     "iopub.status.idle": "2022-05-18T11:11:35.00279Z",
     "shell.execute_reply": "2022-05-18T11:11:35.00213Z",
     "shell.execute_reply.started": "2022-05-18T11:11:34.756126Z"
    },
    "id": "lpzAhSlJNdWY",
    "outputId": "d9a16b5c-8d7e-4172-8be5-b3fc9c7e815e",
    "trusted": true
   },
   "outputs": [],
   "source": [
    "image = cv2.imread(img)\n",
    "plt.imshow(image)\n",
    "image.shape"
   ]
  },
  {
   "cell_type": "code",
   "execution_count": null,
   "metadata": {
    "execution": {
     "iopub.execute_input": "2022-05-18T11:11:35.0044Z",
     "iopub.status.busy": "2022-05-18T11:11:35.00402Z",
     "iopub.status.idle": "2022-05-18T11:11:35.202667Z",
     "shell.execute_reply": "2022-05-18T11:11:35.202025Z",
     "shell.execute_reply.started": "2022-05-18T11:11:35.004363Z"
    },
    "id": "buGQ1UawA-2y",
    "outputId": "67929720-12a1-4c69-8602-64f28f585199",
    "trusted": true
   },
   "outputs": [],
   "source": [
    "image = cv2.imread(img)\n",
    "image = image[size[0][1]:size[0][3],size[0][0]:size[0][2]]\n",
    "plt.imshow(image)\n",
    "image.shape"
   ]
  },
  {
   "cell_type": "code",
   "execution_count": null,
   "metadata": {
    "execution": {
     "iopub.execute_input": "2022-05-18T11:11:35.205041Z",
     "iopub.status.busy": "2022-05-18T11:11:35.203704Z",
     "iopub.status.idle": "2022-05-18T11:11:35.212266Z",
     "shell.execute_reply": "2022-05-18T11:11:35.211541Z",
     "shell.execute_reply.started": "2022-05-18T11:11:35.204992Z"
    },
    "id": "XSJR54OmianJ",
    "trusted": true
   },
   "outputs": [],
   "source": [
    "query = pd.read_csv(\"./flickr_logos_27_dataset/flickr_logos_27_dataset_query_set_annotation.txt\", sep='\\s+',header=None)\n",
    "query"
   ]
  },
  {
   "cell_type": "code",
   "execution_count": null,
   "metadata": {
    "execution": {
     "iopub.execute_input": "2022-05-18T11:11:35.228961Z",
     "iopub.status.busy": "2022-05-18T11:11:35.228704Z",
     "iopub.status.idle": "2022-05-18T11:11:35.421471Z",
     "shell.execute_reply": "2022-05-18T11:11:35.420801Z",
     "shell.execute_reply.started": "2022-05-18T11:11:35.228925Z"
    },
    "id": "5_c_mmqOjuEB",
    "outputId": "8d5d98b8-03f5-4beb-85bb-99d25e4cf4d4",
    "trusted": true
   },
   "outputs": [],
   "source": [
    "img = os.path.join(dtdir,query[0][5])\n",
    "image = cv2.imread(img)\n",
    "plt.imshow(image)\n",
    "image.shape"
   ]
  },
  {
   "cell_type": "code",
   "execution_count": null,
   "metadata": {
    "execution": {
     "iopub.execute_input": "2022-05-18T11:11:35.42411Z",
     "iopub.status.busy": "2022-05-18T11:11:35.423864Z",
     "iopub.status.idle": "2022-05-18T11:11:35.428156Z",
     "shell.execute_reply": "2022-05-18T11:11:35.42737Z",
     "shell.execute_reply.started": "2022-05-18T11:11:35.424077Z"
    },
    "id": "vT3TEQgOz0lx",
    "trusted": true
   },
   "outputs": [],
   "source": [
    "y = list(set(list(Y)))\n",
    "y.sort()"
   ]
  },
  {
   "cell_type": "code",
   "execution_count": null,
   "metadata": {
    "execution": {
     "iopub.execute_input": "2022-05-18T11:11:35.429875Z",
     "iopub.status.busy": "2022-05-18T11:11:35.429568Z",
     "iopub.status.idle": "2022-05-18T11:11:35.438951Z",
     "shell.execute_reply": "2022-05-18T11:11:35.438235Z",
     "shell.execute_reply.started": "2022-05-18T11:11:35.429839Z"
    },
    "id": "J7Wa4_ei_DCn",
    "trusted": true
   },
   "outputs": [],
   "source": [
    "for i in y:\n",
    "    os.makedirs(os.path.join(dest,i))"
   ]
  },
  {
   "cell_type": "code",
   "execution_count": null,
   "metadata": {
    "execution": {
     "iopub.execute_input": "2022-05-18T11:11:35.442146Z",
     "iopub.status.busy": "2022-05-18T11:11:35.441883Z",
     "iopub.status.idle": "2022-05-18T11:11:35.456834Z",
     "shell.execute_reply": "2022-05-18T11:11:35.456224Z",
     "shell.execute_reply.started": "2022-05-18T11:11:35.44211Z"
    },
    "id": "hYQiXYlVi-tE",
    "trusted": true
   },
   "outputs": [],
   "source": [
    "distractor = pd.read_csv(\"./flickr_logos_27_dataset/flickr_logos_27_dataset_distractor_set_urls.txt\", sep='\\s+',header=None)\n",
    "distractor"
   ]
  },
  {
   "cell_type": "code",
   "execution_count": null,
   "metadata": {
    "execution": {
     "iopub.execute_input": "2022-05-18T11:11:35.474172Z",
     "iopub.status.busy": "2022-05-18T11:11:35.473795Z",
     "iopub.status.idle": "2022-05-18T11:11:35.478553Z",
     "shell.execute_reply": "2022-05-18T11:11:35.477602Z",
     "shell.execute_reply.started": "2022-05-18T11:11:35.474133Z"
    },
    "id": "wSUgCWCfhVFi",
    "trusted": true
   },
   "outputs": [],
   "source": [
    "HEIGHT = 224\n",
    "WIDTH =  224\n",
    "BS = 256"
   ]
  },
  {
   "cell_type": "markdown",
   "metadata": {
    "id": "p2TEr08CNbsX"
   },
   "source": [
    "## Очистка данных"
   ]
  },
  {
   "cell_type": "code",
   "execution_count": null,
   "metadata": {
    "execution": {
     "iopub.execute_input": "2022-05-18T11:11:35.480435Z",
     "iopub.status.busy": "2022-05-18T11:11:35.479782Z",
     "iopub.status.idle": "2022-05-18T11:11:56.386018Z",
     "shell.execute_reply": "2022-05-18T11:11:56.385197Z",
     "shell.execute_reply.started": "2022-05-18T11:11:35.480399Z"
    },
    "id": "67kcB2IcrUGU",
    "outputId": "350d349c-0a2f-467b-e4f9-598475de10f2",
    "trusted": true
   },
   "outputs": [],
   "source": [
    "for i in range(len(X)):\n",
    "    try:\n",
    "        destrain = os.path.join(dest,Y[i])\n",
    "        savepath = os.path.join(destrain,X[i])\n",
    "        img  = os.path.join(dtdir,X[i])\n",
    "        image = cv2.imread(img)\n",
    "        image = image[size[i][1]:size[i][3],size[i][0]:size[i][2]]\n",
    "        image = cv2.resize(image,(WIDTH,HEIGHT))\n",
    "        cv2.imwrite(savepath,image)\n",
    "    except:\n",
    "        print('error')\n",
    "        pass"
   ]
  },
  {
   "cell_type": "code",
   "execution_count": null,
   "metadata": {
    "execution": {
     "iopub.execute_input": "2022-05-18T11:11:56.387698Z",
     "iopub.status.busy": "2022-05-18T11:11:56.387435Z",
     "iopub.status.idle": "2022-05-18T11:11:56.395091Z",
     "shell.execute_reply": "2022-05-18T11:11:56.391831Z",
     "shell.execute_reply.started": "2022-05-18T11:11:56.387663Z"
    },
    "id": "LWo-J-3BuJNx",
    "trusted": true
   },
   "outputs": [],
   "source": [
    "A = query.iloc[:,0]\n",
    "B = query.iloc[:,1]"
   ]
  },
  {
   "cell_type": "code",
   "execution_count": null,
   "metadata": {
    "execution": {
     "iopub.execute_input": "2022-05-18T11:11:56.396812Z",
     "iopub.status.busy": "2022-05-18T11:11:56.396395Z",
     "iopub.status.idle": "2022-05-18T11:11:56.550321Z",
     "shell.execute_reply": "2022-05-18T11:11:56.548221Z",
     "shell.execute_reply.started": "2022-05-18T11:11:56.396769Z"
    },
    "id": "jR4MnS_4ucyD",
    "outputId": "9e670ada-cf07-4fab-a800-78147348d69d",
    "trusted": true
   },
   "outputs": [],
   "source": [
    "A"
   ]
  },
  {
   "cell_type": "code",
   "execution_count": null,
   "metadata": {
    "execution": {
     "iopub.execute_input": "2022-05-18T11:11:56.551977Z",
     "iopub.status.busy": "2022-05-18T11:11:56.551499Z",
     "iopub.status.idle": "2022-05-18T11:11:57.753614Z",
     "shell.execute_reply": "2022-05-18T11:11:57.752804Z",
     "shell.execute_reply.started": "2022-05-18T11:11:56.551923Z"
    },
    "id": "kqdjB3EyOMRz",
    "trusted": true
   },
   "outputs": [],
   "source": [
    "for i in range(len(A)):\n",
    "    try:\n",
    "        destrain = os.path.join(dest,B[i])\n",
    "        savepath = os.path.join(destrain,A[i])\n",
    "        img  = os.path.join(dtdir,A[i])\n",
    "        image = cv2.imread(img)\n",
    "        image = cv2.resize(image,(WIDTH,HEIGHT))\n",
    "        cv2.imwrite(savepath,image)\n",
    "    except:\n",
    "        print('error')\n",
    "        pass"
   ]
  },
  {
   "cell_type": "code",
   "execution_count": null,
   "metadata": {
    "execution": {
     "iopub.execute_input": "2022-05-18T11:11:57.755318Z",
     "iopub.status.busy": "2022-05-18T11:11:57.755026Z",
     "iopub.status.idle": "2022-05-18T11:11:57.76854Z",
     "shell.execute_reply": "2022-05-18T11:11:57.767333Z",
     "shell.execute_reply.started": "2022-05-18T11:11:57.755279Z"
    },
    "id": "YZDoZSAtxAIw",
    "trusted": true
   },
   "outputs": [],
   "source": [
    "imagePaths = list(paths.list_images(dest))"
   ]
  },
  {
   "cell_type": "code",
   "execution_count": null,
   "metadata": {
    "execution": {
     "iopub.execute_input": "2022-05-18T11:11:57.770638Z",
     "iopub.status.busy": "2022-05-18T11:11:57.770282Z",
     "iopub.status.idle": "2022-05-18T11:11:58.100176Z",
     "shell.execute_reply": "2022-05-18T11:11:58.099312Z",
     "shell.execute_reply.started": "2022-05-18T11:11:57.770593Z"
    },
    "id": "Pqn1L12ExRyh",
    "outputId": "f55df656-ad13-46d6-bbb6-dc0e2ad212dc",
    "trusted": true
   },
   "outputs": [],
   "source": [
    "img = imagePaths[40]\n",
    "print(img)\n",
    "image = cv2.imread(img)\n",
    "plt.imshow(image)\n",
    "image.shape"
   ]
  },
  {
   "cell_type": "markdown",
   "metadata": {
    "id": "B3ZLBTZANbsZ"
   },
   "source": [
    "## Тестовая и валидационная выборки"
   ]
  },
  {
   "cell_type": "code",
   "execution_count": null,
   "metadata": {
    "execution": {
     "iopub.execute_input": "2022-05-18T11:11:58.101739Z",
     "iopub.status.busy": "2022-05-18T11:11:58.101498Z",
     "iopub.status.idle": "2022-05-18T11:11:58.106775Z",
     "shell.execute_reply": "2022-05-18T11:11:58.105945Z",
     "shell.execute_reply.started": "2022-05-18T11:11:58.101704Z"
    },
    "id": "mfBRhzccNbsZ",
    "trusted": true
   },
   "outputs": [],
   "source": [
    "path = 'LOGOS'"
   ]
  },
  {
   "cell_type": "code",
   "execution_count": null,
   "metadata": {
    "execution": {
     "iopub.execute_input": "2022-05-18T11:11:58.109316Z",
     "iopub.status.busy": "2022-05-18T11:11:58.108664Z",
     "iopub.status.idle": "2022-05-18T11:11:58.256966Z",
     "shell.execute_reply": "2022-05-18T11:11:58.256256Z",
     "shell.execute_reply.started": "2022-05-18T11:11:58.109267Z"
    },
    "id": "QKLOd_9-NbsZ",
    "outputId": "7d488886-c430-4ed2-da55-5e2aacefcc60",
    "trusted": true
   },
   "outputs": [],
   "source": [
    "splitfolders.ratio(path, output=\"data\", seed=42, ratio=(0.8,0.2))"
   ]
  },
  {
   "cell_type": "markdown",
   "metadata": {
    "id": "CvQZWj-bNbsZ"
   },
   "source": [
    "## Аугментация"
   ]
  },
  {
   "cell_type": "code",
   "execution_count": null,
   "metadata": {
    "execution": {
     "iopub.execute_input": "2022-05-18T11:11:58.259122Z",
     "iopub.status.busy": "2022-05-18T11:11:58.258631Z",
     "iopub.status.idle": "2022-05-18T11:11:58.271918Z",
     "shell.execute_reply": "2022-05-18T11:11:58.270671Z",
     "shell.execute_reply.started": "2022-05-18T11:11:58.259086Z"
    },
    "id": "GT78Gbr2NbsZ",
    "outputId": "993fc75c-39a6-4233-aef0-f96e5d48704b",
    "trusted": true
   },
   "outputs": [],
   "source": [
    "resize = transforms.Resize(size=(WIDTH,HEIGHT))\n",
    "hFlip = transforms.RandomHorizontalFlip(p=0.25)\n",
    "vFlip = transforms.RandomVerticalFlip(p=0.25)\n",
    "rotate = transforms.RandomRotation(degrees=15)\n",
    "coljtr = transforms.ColorJitter(brightness=0.2, contrast=0.2, saturation=0.1, hue=0.1)\n",
    "raf = transforms.RandomAffine(degrees=40, translate=None, scale=(1, 2), shear=15, resample=False, fillcolor=0)\n",
    "rrsc = transforms.RandomResizedCrop(size=WIDTH, scale=(0.8, 1.0))\n",
    "ccp  = transforms.CenterCrop(size=WIDTH)\n",
    "nrml = transforms.Normalize([0.485, 0.456, 0.406],[0.229, 0.224, 0.225])"
   ]
  },
  {
   "cell_type": "code",
   "execution_count": null,
   "metadata": {
    "execution": {
     "iopub.execute_input": "2022-05-18T11:11:58.274561Z",
     "iopub.status.busy": "2022-05-18T11:11:58.274223Z",
     "iopub.status.idle": "2022-05-18T11:11:58.28174Z",
     "shell.execute_reply": "2022-05-18T11:11:58.280766Z",
     "shell.execute_reply.started": "2022-05-18T11:11:58.274526Z"
    },
    "id": "WMgPIdAiNbsZ",
    "trusted": true
   },
   "outputs": [],
   "source": [
    "trainTransforms = transforms.Compose([resize,hFlip,vFlip,rotate,raf,rrsc,ccp,coljtr,transforms.ToTensor(),nrml])\n",
    "valTransforms = transforms.Compose([resize,hFlip,vFlip,rotate,raf,rrsc,ccp,coljtr,transforms.ToTensor(),nrml])"
   ]
  },
  {
   "cell_type": "code",
   "execution_count": null,
   "metadata": {
    "execution": {
     "iopub.execute_input": "2022-05-18T11:11:58.28378Z",
     "iopub.status.busy": "2022-05-18T11:11:58.283523Z",
     "iopub.status.idle": "2022-05-18T11:11:58.300086Z",
     "shell.execute_reply": "2022-05-18T11:11:58.299391Z",
     "shell.execute_reply.started": "2022-05-18T11:11:58.283745Z"
    },
    "id": "kqo4es7-Nbsa",
    "outputId": "2ee3c7ff-bae0-4aee-d59b-bf31300a808d",
    "trusted": true
   },
   "outputs": [],
   "source": [
    "print(\"[INFO] loading the training and validation dataset...\")\n",
    "trainDataset = ImageFolder(root='./data/train',transform=trainTransforms)\n",
    "valDataset = ImageFolder(root='./data/val', transform=valTransforms)\n",
    "print(\"[INFO] training dataset contains {} samples...\".format(len(trainDataset)))\n",
    "print(\"[INFO] validation dataset contains {} samples...\".format(len(valDataset)))"
   ]
  },
  {
   "cell_type": "code",
   "execution_count": null,
   "metadata": {
    "execution": {
     "iopub.execute_input": "2022-05-18T11:11:58.301912Z",
     "iopub.status.busy": "2022-05-18T11:11:58.301193Z",
     "iopub.status.idle": "2022-05-18T11:11:58.308396Z",
     "shell.execute_reply": "2022-05-18T11:11:58.307619Z",
     "shell.execute_reply.started": "2022-05-18T11:11:58.301863Z"
    },
    "id": "sUa6bA2uNbsa",
    "outputId": "95b591ea-065c-44c5-f7af-25230fbed735",
    "trusted": true
   },
   "outputs": [],
   "source": [
    "print(\"[INFO] creating training and validation set dataloaders...\")\n",
    "trainDataLoader = DataLoader(trainDataset, batch_size=BS, shuffle=True)\n",
    "valDataLoader = DataLoader(valDataset, batch_size=BS,shuffle=True)"
   ]
  },
  {
   "cell_type": "code",
   "execution_count": null,
   "metadata": {
    "execution": {
     "iopub.execute_input": "2022-05-18T11:11:58.3105Z",
     "iopub.status.busy": "2022-05-18T11:11:58.309627Z",
     "iopub.status.idle": "2022-05-18T11:12:00.909198Z",
     "shell.execute_reply": "2022-05-18T11:12:00.908561Z",
     "shell.execute_reply.started": "2022-05-18T11:11:58.310462Z"
    },
    "id": "LAbYTk9cNbsb",
    "outputId": "771307ce-caea-43a3-8ddf-bf63f9a20a27",
    "trusted": true
   },
   "outputs": [],
   "source": [
    "examples = iter(valDataLoader)\n",
    "example_data, example_targets = examples.next()\n",
    "for i in range(9):\n",
    "    plt.subplot(3,3,i+1)\n",
    "    img =example_data[i].cpu().numpy().T\n",
    "    plt.imshow(img)\n",
    "    plt.axis(\"off\")\n",
    "plt.show() "
   ]
  },
  {
   "cell_type": "code",
   "execution_count": null,
   "metadata": {
    "execution": {
     "iopub.execute_input": "2022-05-18T11:12:00.926421Z",
     "iopub.status.busy": "2022-05-18T11:12:00.924863Z",
     "iopub.status.idle": "2022-05-18T11:12:00.932596Z",
     "shell.execute_reply": "2022-05-18T11:12:00.931909Z",
     "shell.execute_reply.started": "2022-05-18T11:12:00.926379Z"
    },
    "id": "lsNSFaCpNbsb",
    "outputId": "e096f39f-9ad8-471a-adfd-d0693c528f28",
    "trusted": true
   },
   "outputs": [],
   "source": [
    "print(trainDataset.class_to_idx)"
   ]
  },
  {
   "cell_type": "markdown",
   "metadata": {
    "id": "fIQQtr8gNbsb"
   },
   "source": [
    "## Модель InceptionV3"
   ]
  },
  {
   "cell_type": "code",
   "execution_count": null,
   "metadata": {
    "execution": {
     "iopub.execute_input": "2022-05-18T11:12:00.935702Z",
     "iopub.status.busy": "2022-05-18T11:12:00.934414Z",
     "iopub.status.idle": "2022-05-18T11:12:01.008387Z",
     "shell.execute_reply": "2022-05-18T11:12:01.007406Z",
     "shell.execute_reply.started": "2022-05-18T11:12:00.935658Z"
    },
    "id": "8FeVGG3RjdEc",
    "outputId": "8389d367-6e68-4d88-ac3e-c0f071af2075",
    "trusted": true
   },
   "outputs": [],
   "source": [
    "device = torch.device(\"cuda\" if torch.cuda.is_available() else \"cpu\")\n",
    "print(device)"
   ]
  },
  {
   "cell_type": "code",
   "execution_count": null,
   "metadata": {
    "execution": {
     "iopub.execute_input": "2022-05-18T11:22:45.95562Z",
     "iopub.status.busy": "2022-05-18T11:22:45.955322Z",
     "iopub.status.idle": "2022-05-18T11:22:46.103034Z",
     "shell.execute_reply": "2022-05-18T11:22:46.10226Z",
     "shell.execute_reply.started": "2022-05-18T11:22:45.955588Z"
    },
    "id": "BpYJLZ33Nbsb",
    "trusted": true
   },
   "outputs": [],
   "source": [
    "model = models.mobilenet_v2(pretrained=True)\n",
    "model.aux_logits=False\n",
    "\n",
    "for param in model.parameters():\n",
    "    param.requires_grad = False\n",
    "\n",
    "num_feat = model.classifier[1].in_features\n",
    "\n",
    "features = list(model.classifier.children())[:-1] \n",
    "features.extend([nn.Linear(num_feat, 256),\n",
    "                 nn.Dropout(0.5),\n",
    "                 nn.ReLU(inplace=True), \n",
    "                 nn.Linear(256, len(trainDataset.classes)),                   \n",
    "                 nn.LogSoftmax(dim=1)]) \n",
    "model.classifier = nn.Sequential(*features) \n",
    "\n",
    "model = model.to(device)"
   ]
  },
  {
   "cell_type": "code",
   "execution_count": null,
   "metadata": {
    "execution": {
     "iopub.execute_input": "2022-05-18T11:22:46.109296Z",
     "iopub.status.busy": "2022-05-18T11:22:46.109097Z",
     "iopub.status.idle": "2022-05-18T11:22:46.114295Z",
     "shell.execute_reply": "2022-05-18T11:22:46.113567Z",
     "shell.execute_reply.started": "2022-05-18T11:22:46.109271Z"
    },
    "id": "_dsbfzzSNbsb",
    "trusted": true
   },
   "outputs": [],
   "source": [
    "loss_func = nn.NLLLoss()\n",
    "optimizer = torch.optim.Adam(model.parameters())"
   ]
  },
  {
   "cell_type": "code",
   "execution_count": null,
   "metadata": {
    "execution": {
     "iopub.execute_input": "2022-05-18T11:22:46.205019Z",
     "iopub.status.busy": "2022-05-18T11:22:46.204762Z",
     "iopub.status.idle": "2022-05-18T11:22:46.214675Z",
     "shell.execute_reply": "2022-05-18T11:22:46.213946Z",
     "shell.execute_reply.started": "2022-05-18T11:22:46.204986Z"
    },
    "id": "E9ZqNlJRNbsc",
    "trusted": true
   },
   "outputs": [],
   "source": [
    "def train(epoch):\n",
    "  model.train()\n",
    "  net_loss = 0\n",
    "  correct = 0\n",
    "  for batch_idx, (data, target) in enumerate(trainDataLoader):\n",
    "    (data, target) = (data.to(device), target.to(device))\n",
    "    optimizer.zero_grad()\n",
    "    output = model(data)\n",
    "    loss = loss_func(output, target)\n",
    "    output = torch.exp(output)\n",
    "    pred = output.data.max(1, keepdim=True)[1]\n",
    "    correct += pred.eq(target.data.view_as(pred)).sum()\n",
    "    loss.backward()\n",
    "    optimizer.step()\n",
    "    \n",
    "    net_loss = net_loss + loss.item()\n",
    "  acc = correct / len(trainDataLoader.dataset)\n",
    "  return net_loss,acc"
   ]
  },
  {
   "cell_type": "code",
   "execution_count": null,
   "metadata": {
    "execution": {
     "iopub.execute_input": "2022-05-18T11:22:46.298829Z",
     "iopub.status.busy": "2022-05-18T11:22:46.29861Z",
     "iopub.status.idle": "2022-05-18T11:22:46.30537Z",
     "shell.execute_reply": "2022-05-18T11:22:46.304692Z",
     "shell.execute_reply.started": "2022-05-18T11:22:46.298803Z"
    },
    "id": "K9eOqqFdNbsc",
    "trusted": true
   },
   "outputs": [],
   "source": [
    "def test():\n",
    "  model.eval()\n",
    "  test_loss = 0\n",
    "  correct = 0\n",
    "  with torch.no_grad():\n",
    "    for data, target in valDataLoader:\n",
    "      (data, target) = (data.to(device), target.to(device))\n",
    "      output = model(data)\n",
    "      test_loss += loss_func(output, target).item()\n",
    "      output = torch.exp(output)\n",
    "      pred = output.data.max(1, keepdim=True)[1]\n",
    "      correct += pred.eq(target.data.view_as(pred)).sum()\n",
    "  test_loss /= len(valDataLoader.dataset)\n",
    "  acc = correct / len(valDataLoader.dataset)\n",
    "  return test_loss,acc"
   ]
  },
  {
   "cell_type": "code",
   "execution_count": null,
   "metadata": {
    "execution": {
     "iopub.execute_input": "2022-05-18T11:22:46.396006Z",
     "iopub.status.busy": "2022-05-18T11:22:46.395566Z",
     "iopub.status.idle": "2022-05-18T11:37:59.745748Z",
     "shell.execute_reply": "2022-05-18T11:37:59.744967Z",
     "shell.execute_reply.started": "2022-05-18T11:22:46.395967Z"
    },
    "id": "rjM63VVQNbsc",
    "outputId": "3a4bbb5b-63a9-44f6-8fac-6bb3699dbbe5",
    "trusted": true
   },
   "outputs": [],
   "source": [
    "LOSSTR = []\n",
    "ACCTE = []\n",
    "LOSSTE = []\n",
    "ACCTR = []\n",
    "\n",
    "n_epochs = 100\n",
    "for epoch in range(1, n_epochs + 1):\n",
    "  start = time.time()\n",
    "  print(\"--- Epoch {} ---\".format(epoch))\n",
    "  epoch_loss,tracc = train(epoch)\n",
    "  LOSSTR.append(epoch_loss)\n",
    "  ACCTR.append(tracc)\n",
    "  print(\"\\tTrain Accuracy = {} || Train Loss  = {} \".format(tracc,epoch_loss))\n",
    "  tloss,tacc =  test()\n",
    "  print(\"\\tTest Accuracy =  {} || Test Loss = {} \".format(tacc,tloss))\n",
    "  ACCTE.append(tacc)\n",
    "  LOSSTE.append(tloss)\n",
    "  stop = time.time()\n",
    "  print(\"\\tTraining time = \", (stop - start))"
   ]
  },
  {
   "cell_type": "code",
   "execution_count": null,
   "metadata": {
    "execution": {
     "iopub.execute_input": "2022-05-18T11:37:59.747875Z",
     "iopub.status.busy": "2022-05-18T11:37:59.747454Z",
     "iopub.status.idle": "2022-05-18T11:38:00.049149Z",
     "shell.execute_reply": "2022-05-18T11:38:00.048471Z",
     "shell.execute_reply.started": "2022-05-18T11:37:59.747835Z"
    },
    "id": "YUlMOG-CNbsd",
    "outputId": "2ac9b279-6763-4d8b-a05a-dfdee5344439",
    "trusted": true
   },
   "outputs": [],
   "source": [
    "xx = np.arange(n_epochs)\n",
    "plt.style.use(\"ggplot\")\n",
    "\n",
    "acctr = torch.Tensor(ACCTR).detach().cpu().numpy()\n",
    "lsstr = torch.Tensor(LOSSTR).detach().cpu().numpy()\n",
    "accte = torch.Tensor(ACCTE).detach().cpu().numpy()\n",
    "lsste = torch.Tensor(LOSSTE).detach().cpu().numpy()\n",
    "\n",
    "fig, (ax1, ax2) = plt.subplots(1, 2,figsize=(12,6))\n",
    "fig.suptitle('ACC vs LOSS')\n",
    "ax1.plot(xx, acctr,label='Train')\n",
    "ax1.plot(xx,accte,label='Val')\n",
    "ax1.legend(loc=\"best\")\n",
    "ax2.plot(xx, lsstr,label='Train')\n",
    "ax2.plot(xx, lsste,label='Val')\n",
    "ax2.legend(loc=\"best\")\n",
    "plt.show()"
   ]
  },
  {
   "cell_type": "markdown",
   "metadata": {
    "id": "U7tQXeXFNbsd"
   },
   "source": [
    "## Предсказания"
   ]
  },
  {
   "cell_type": "code",
   "execution_count": null,
   "metadata": {
    "execution": {
     "iopub.execute_input": "2022-05-18T11:38:00.050734Z",
     "iopub.status.busy": "2022-05-18T11:38:00.050358Z",
     "iopub.status.idle": "2022-05-18T11:38:00.061961Z",
     "shell.execute_reply": "2022-05-18T11:38:00.061097Z",
     "shell.execute_reply.started": "2022-05-18T11:38:00.050696Z"
    },
    "id": "Y2xhXJ3dNbsd",
    "trusted": true
   },
   "outputs": [],
   "source": [
    "testimage = list(paths.list_images('./flickr_logos_27_dataset_images'))"
   ]
  },
  {
   "cell_type": "code",
   "execution_count": null,
   "metadata": {
    "execution": {
     "iopub.execute_input": "2022-05-18T11:40:41.177305Z",
     "iopub.status.busy": "2022-05-18T11:40:41.177048Z",
     "iopub.status.idle": "2022-05-18T11:40:41.187535Z",
     "shell.execute_reply": "2022-05-18T11:40:41.186603Z",
     "shell.execute_reply.started": "2022-05-18T11:40:41.177277Z"
    },
    "id": "SdbhYJ71Nbsd",
    "trusted": true
   },
   "outputs": [],
   "source": [
    "def predimg(path):\n",
    "    image = Image.open(path)\n",
    "    plt.imshow(image)\n",
    "    plt.axis(\"off\")\n",
    "    plt.show() \n",
    "    model.eval()\n",
    "    with torch.no_grad():\n",
    "      img =  load_img(path)\n",
    "      mean = [0.485, 0.456, 0.406] \n",
    "      std = [0.229, 0.224, 0.225]\n",
    "      transform_norm = transforms.Compose([transforms.ToTensor(), \n",
    "      transforms.Resize((224,224)),transforms.Normalize(mean, std)])\n",
    "      img_normalized = transform_norm(img).float()\n",
    "      img_normalized = img_normalized.unsqueeze_(0)\n",
    "      img = torch.from_numpy(np.asarray(img)).permute(2, 0, 1)\n",
    "      img = img_normalized.to(device)\n",
    "      output = model(img)\n",
    "      output = torch.exp(output)\n",
    "      #print(output)\n",
    "      index = output.data.cpu().numpy().argmax()\n",
    "      result = list(np.around(output.data.cpu().numpy()*100,1))\n",
    "      print(result)\n",
    "      print(\"PREDICTED CLASS = \",trainDataset.classes[index])"
   ]
  },
  {
   "cell_type": "code",
   "execution_count": null,
   "metadata": {
    "execution": {
     "iopub.execute_input": "2022-05-18T11:40:57.419818Z",
     "iopub.status.busy": "2022-05-18T11:40:57.41954Z",
     "iopub.status.idle": "2022-05-18T11:40:57.603556Z",
     "shell.execute_reply": "2022-05-18T11:40:57.60273Z",
     "shell.execute_reply.started": "2022-05-18T11:40:57.419786Z"
    },
    "trusted": true
   },
   "outputs": [],
   "source": [
    "predimg(testimage[1])"
   ]
  }
 ],
 "metadata": {
  "kaggle": {
   "accelerator": "gpu",
   "dataSources": [
    {
     "datasetId": 2173744,
     "sourceId": 3629019,
     "sourceType": "datasetVersion"
    }
   ],
   "dockerImageVersionId": 30192,
   "isGpuEnabled": true,
   "isInternetEnabled": true,
   "language": "python",
   "sourceType": "notebook"
  },
  "kernelspec": {
   "display_name": "Python 3",
   "language": "python",
   "name": "python3"
  },
  "language_info": {
   "codemirror_mode": {
    "name": "ipython",
    "version": 3
   },
   "file_extension": ".py",
   "mimetype": "text/x-python",
   "name": "python",
   "nbconvert_exporter": "python",
   "pygments_lexer": "ipython3",
   "version": "3.6.4"
  }
 },
 "nbformat": 4,
 "nbformat_minor": 4
}
